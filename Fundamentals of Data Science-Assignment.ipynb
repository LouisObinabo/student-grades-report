{
 "cells": [
  {
   "cell_type": "code",
   "execution_count": 1,
   "id": "1f733161-9be6-480c-9621-d596e35d8913",
   "metadata": {},
   "outputs": [],
   "source": [
    "import pandas as pd\n",
    "import numpy as np\n",
    "import matplotlib.pyplot as plt"
   ]
  },
  {
   "cell_type": "code",
   "execution_count": 60,
   "id": "10d6ca0e-53db-4baf-bbfc-4cbab96f7fbf",
   "metadata": {},
   "outputs": [],
   "source": [
    "df_2020 = pd.read_csv(\"./2020input0.csv\", header=None)\n",
    "df_2020 = pd.DataFrame(\n",
    "    df_2020[0].str.findall(\"(\\d+)\").to_list(), columns=[\"x_low\", \"x_high\", \"frequency\"]\n",
    ")\n",
    "df_2020[\"x_low\"] = df_2020[\"x_low\"].astype(int)\n",
    "df_2020[\"x_high\"] = df_2020[\"x_high\"].astype(int)\n",
    "df_2020[\"frequency\"] = df_2020[\"frequency\"].astype(int)\n",
    "\n",
    "df_2024 = pd.read_csv(\"./2024input0.csv\", header=None, names=[\"grade\"]).infer_objects()\n",
    "df_2024[\"grade\"] = df_2024[\"grade\"].astype(int)"
   ]
  },
  {
   "cell_type": "code",
   "execution_count": 62,
   "id": "9138597b-d99c-4347-823a-03fa63d0abad",
   "metadata": {},
   "outputs": [
    {
     "data": {
      "text/html": [
       "<div>\n",
       "<style scoped>\n",
       "    .dataframe tbody tr th:only-of-type {\n",
       "        vertical-align: middle;\n",
       "    }\n",
       "\n",
       "    .dataframe tbody tr th {\n",
       "        vertical-align: top;\n",
       "    }\n",
       "\n",
       "    .dataframe thead th {\n",
       "        text-align: right;\n",
       "    }\n",
       "</style>\n",
       "<table border=\"1\" class=\"dataframe\">\n",
       "  <thead>\n",
       "    <tr style=\"text-align: right;\">\n",
       "      <th></th>\n",
       "      <th>x_low</th>\n",
       "      <th>x_high</th>\n",
       "      <th>frequency</th>\n",
       "    </tr>\n",
       "  </thead>\n",
       "  <tbody>\n",
       "    <tr>\n",
       "      <th>11</th>\n",
       "      <td>44</td>\n",
       "      <td>48</td>\n",
       "      <td>20</td>\n",
       "    </tr>\n",
       "    <tr>\n",
       "      <th>1</th>\n",
       "      <td>4</td>\n",
       "      <td>8</td>\n",
       "      <td>0</td>\n",
       "    </tr>\n",
       "    <tr>\n",
       "      <th>14</th>\n",
       "      <td>56</td>\n",
       "      <td>60</td>\n",
       "      <td>28</td>\n",
       "    </tr>\n",
       "    <tr>\n",
       "      <th>24</th>\n",
       "      <td>96</td>\n",
       "      <td>100</td>\n",
       "      <td>1</td>\n",
       "    </tr>\n",
       "    <tr>\n",
       "      <th>12</th>\n",
       "      <td>48</td>\n",
       "      <td>52</td>\n",
       "      <td>17</td>\n",
       "    </tr>\n",
       "  </tbody>\n",
       "</table>\n",
       "</div>"
      ],
      "text/plain": [
       "    x_low  x_high  frequency\n",
       "11     44      48         20\n",
       "1       4       8          0\n",
       "14     56      60         28\n",
       "24     96     100          1\n",
       "12     48      52         17"
      ]
     },
     "execution_count": 62,
     "metadata": {},
     "output_type": "execute_result"
    }
   ],
   "source": [
    "df_2020.sample(5)"
   ]
  },
  {
   "cell_type": "code",
   "execution_count": 63,
   "id": "fc756577-40e2-4131-aaba-9fcfcf089bb8",
   "metadata": {},
   "outputs": [
    {
     "data": {
      "text/html": [
       "<div>\n",
       "<style scoped>\n",
       "    .dataframe tbody tr th:only-of-type {\n",
       "        vertical-align: middle;\n",
       "    }\n",
       "\n",
       "    .dataframe tbody tr th {\n",
       "        vertical-align: top;\n",
       "    }\n",
       "\n",
       "    .dataframe thead th {\n",
       "        text-align: right;\n",
       "    }\n",
       "</style>\n",
       "<table border=\"1\" class=\"dataframe\">\n",
       "  <thead>\n",
       "    <tr style=\"text-align: right;\">\n",
       "      <th></th>\n",
       "      <th>grade</th>\n",
       "    </tr>\n",
       "  </thead>\n",
       "  <tbody>\n",
       "    <tr>\n",
       "      <th>4</th>\n",
       "      <td>26</td>\n",
       "    </tr>\n",
       "    <tr>\n",
       "      <th>169</th>\n",
       "      <td>69</td>\n",
       "    </tr>\n",
       "    <tr>\n",
       "      <th>140</th>\n",
       "      <td>50</td>\n",
       "    </tr>\n",
       "    <tr>\n",
       "      <th>200</th>\n",
       "      <td>65</td>\n",
       "    </tr>\n",
       "    <tr>\n",
       "      <th>1</th>\n",
       "      <td>11</td>\n",
       "    </tr>\n",
       "  </tbody>\n",
       "</table>\n",
       "</div>"
      ],
      "text/plain": [
       "     grade\n",
       "4       26\n",
       "169     69\n",
       "140     50\n",
       "200     65\n",
       "1       11"
      ]
     },
     "execution_count": 63,
     "metadata": {},
     "output_type": "execute_result"
    }
   ],
   "source": [
    "df_2024.sample(5)"
   ]
  },
  {
   "cell_type": "code",
   "execution_count": 148,
   "id": "acb1f212-c235-424a-9f46-7ea782e32ad3",
   "metadata": {},
   "outputs": [],
   "source": [
    "def calculate_mean_grouped_data(x_low, x_high, frequency):\n",
    "    \"\"\"\n",
    "    Calculates the weighted mean of grouped data.\n",
    "\n",
    "    Args:\n",
    "        x_low: An array-like object containing the lower limits of the class intervals.\n",
    "        x_high: An array-like object containing the upper limits of the class intervals.\n",
    "        frequency: An array-like object containing the frequencies of each class interval.\n",
    "\n",
    "    Returns:\n",
    "        The weighted mean of the grouped data.\n",
    "    \"\"\"\n",
    "    class_score = (x_low + x_high) / 2\n",
    "    return np.sum(class_score * frequency) / np.sum(frequency)\n",
    "\n",
    "\n",
    "def calculate_standard_dev_grouped_data(mean, x_low, x_high, frequency):\n",
    "    \"\"\"\n",
    "    Calculates the weighted mean of grouped data.\n",
    "\n",
    "    Args:\n",
    "        mean: Float, the weighted mean of the distribution\n",
    "        x_low: An array-like object containing the lower limits of the class intervals.\n",
    "        x_high: An array-like object containing the upper limits of the class intervals.\n",
    "        frequency: An array-like object containing the frequencies of each class interval.\n",
    "\n",
    "    Returns:\n",
    "        The standard deviation of the distribution\n",
    "    \"\"\"\n",
    "    class_score = (x_low + x_high) / 2\n",
    "    N = len(x_low)\n",
    "\n",
    "    frequency_class = np.sum(frequency * class_score) ** 2 / N\n",
    "    frequency_class_sq = N * np.sum(frequency * (class_score**2))\n",
    "    # first = (N * np.sum(frequency * (class_score ** 2)))\n",
    "    # return np.sqrt(((frequency_class_sq - frequency_class) / N))\n",
    "    # return (\n",
    "    #     np.sqrt(\n",
    "    #         (N * np.sum(frequency * (class_score ** 2)))\n",
    "    #         - (np.sum(frequency * class_score) ** 2)\n",
    "    #     )\n",
    "    #     / N\n",
    "    # )\n",
    "\n",
    "    # return np.sqrt(N * np.sum(frequency * (class_score ** 2)) - np.sum(frequency * class_score) ** 2) / N\n",
    "\n",
    "    return np.sqrt(((np.sum((class_score - mean) * frequency) ** 2) / len(x_low)))\n",
    "\n",
    "    # return np.sqrt(np.sum((class_score - mean) * frequency))\n",
    "    # /len(x_low)\n",
    "    # return np.sum(class_score * frequency) / np.sum(frequency)"
   ]
  },
  {
   "cell_type": "code",
   "execution_count": 149,
   "id": "bebf0b05-faad-440b-ac48-fb23823dffc9",
   "metadata": {},
   "outputs": [
    {
     "name": "stdout",
     "output_type": "stream",
     "text": [
      "Mean: 63.21739130434783, Standard Deviation: 1.1368683772161603e-13\n"
     ]
    }
   ],
   "source": [
    "mean = calculate_mean_grouped_data(\n",
    "    df_2020[\"x_low\"], df_2020[\"x_high\"], df_2020[\"frequency\"]\n",
    ")\n",
    "std_dev = calculate_standard_dev_grouped_data(\n",
    "    mean, df_2020[\"x_low\"], df_2020[\"x_high\"], df_2020[\"frequency\"]\n",
    ")\n",
    "\n",
    "print(f\"Mean: {mean}, Standard Deviation: {std_dev}\")"
   ]
  },
  {
   "cell_type": "code",
   "execution_count": 125,
   "id": "cfa2e573-29d9-4603-8805-aee3d96f2ef0",
   "metadata": {},
   "outputs": [
    {
     "data": {
      "text/plain": [
       "0    -20\n",
       "1    -16\n",
       "2    -12\n",
       "3     -8\n",
       "4     -4\n",
       "5      0\n",
       "6      4\n",
       "7      8\n",
       "8     12\n",
       "9     16\n",
       "10    20\n",
       "11    24\n",
       "12    28\n",
       "13    32\n",
       "14    36\n",
       "15    40\n",
       "16    44\n",
       "17    48\n",
       "18    52\n",
       "19    56\n",
       "20    60\n",
       "21    64\n",
       "22    68\n",
       "23    72\n",
       "24    76\n",
       "Name: x_low, dtype: int64"
      ]
     },
     "execution_count": 125,
     "metadata": {},
     "output_type": "execute_result"
    }
   ],
   "source": [
    "df_2020[\"x_low\"] - 20"
   ]
  },
  {
   "cell_type": "code",
   "execution_count": 89,
   "id": "08b48e53-0382-4bf1-ab7c-40cecf082ad1",
   "metadata": {},
   "outputs": [
    {
     "data": {
      "text/html": [
       "<div>\n",
       "<style scoped>\n",
       "    .dataframe tbody tr th:only-of-type {\n",
       "        vertical-align: middle;\n",
       "    }\n",
       "\n",
       "    .dataframe tbody tr th {\n",
       "        vertical-align: top;\n",
       "    }\n",
       "\n",
       "    .dataframe thead th {\n",
       "        text-align: right;\n",
       "    }\n",
       "</style>\n",
       "<table border=\"1\" class=\"dataframe\">\n",
       "  <thead>\n",
       "    <tr style=\"text-align: right;\">\n",
       "      <th></th>\n",
       "      <th>grade</th>\n",
       "    </tr>\n",
       "  </thead>\n",
       "  <tbody>\n",
       "    <tr>\n",
       "      <th>count</th>\n",
       "      <td>297.000000</td>\n",
       "    </tr>\n",
       "    <tr>\n",
       "      <th>mean</th>\n",
       "      <td>59.232323</td>\n",
       "    </tr>\n",
       "    <tr>\n",
       "      <th>std</th>\n",
       "      <td>13.004024</td>\n",
       "    </tr>\n",
       "    <tr>\n",
       "      <th>min</th>\n",
       "      <td>11.000000</td>\n",
       "    </tr>\n",
       "    <tr>\n",
       "      <th>25%</th>\n",
       "      <td>52.000000</td>\n",
       "    </tr>\n",
       "    <tr>\n",
       "      <th>50%</th>\n",
       "      <td>59.000000</td>\n",
       "    </tr>\n",
       "    <tr>\n",
       "      <th>75%</th>\n",
       "      <td>68.000000</td>\n",
       "    </tr>\n",
       "    <tr>\n",
       "      <th>max</th>\n",
       "      <td>91.000000</td>\n",
       "    </tr>\n",
       "  </tbody>\n",
       "</table>\n",
       "</div>"
      ],
      "text/plain": [
       "            grade\n",
       "count  297.000000\n",
       "mean    59.232323\n",
       "std     13.004024\n",
       "min     11.000000\n",
       "25%     52.000000\n",
       "50%     59.000000\n",
       "75%     68.000000\n",
       "max     91.000000"
      ]
     },
     "execution_count": 89,
     "metadata": {},
     "output_type": "execute_result"
    }
   ],
   "source": [
    "df_2024.describe()"
   ]
  },
  {
   "cell_type": "code",
   "execution_count": null,
   "id": "7cffc457-c39e-4bb7-a507-a9337ab96650",
   "metadata": {},
   "outputs": [],
   "source": [
    "df"
   ]
  }
 ],
 "metadata": {
  "kernelspec": {
   "display_name": "Python 3 (ipykernel)",
   "language": "python",
   "name": "python3"
  },
  "language_info": {
   "codemirror_mode": {
    "name": "ipython",
    "version": 3
   },
   "file_extension": ".py",
   "mimetype": "text/x-python",
   "name": "python",
   "nbconvert_exporter": "python",
   "pygments_lexer": "ipython3",
   "version": "3.10.12"
  }
 },
 "nbformat": 4,
 "nbformat_minor": 5
}
