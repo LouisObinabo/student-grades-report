{
 "cells": [
  {
   "cell_type": "code",
   "execution_count": 1,
   "id": "1f733161-9be6-480c-9621-d596e35d8913",
   "metadata": {},
   "outputs": [],
   "source": [
    "import pandas as pd\n",
    "import numpy as np\n",
    "import matplotlib.pyplot as plt"
   ]
  },
  {
   "cell_type": "code",
   "execution_count": 2,
   "id": "10d6ca0e-53db-4baf-bbfc-4cbab96f7fbf",
   "metadata": {},
   "outputs": [],
   "source": [
    "df_2020 = pd.read_csv(\"./2020input0.csv\", header=None)\n",
    "df_2020 = pd.DataFrame(\n",
    "    df_2020[0].str.findall(\"(\\d+)\").to_list(), columns=[\"x_low\", \"x_high\", \"frequency\"]\n",
    ")\n",
    "df_2020[\"x_low\"] = df_2020[\"x_low\"].astype(int)\n",
    "df_2020[\"x_high\"] = df_2020[\"x_high\"].astype(int)\n",
    "df_2020[\"frequency\"] = df_2020[\"frequency\"].astype(int)\n",
    "\n",
    "df_2024 = pd.read_csv(\"./2024input0.csv\", header=None, names=[\"grade\"]).infer_objects()\n",
    "df_2024[\"grade\"] = df_2024[\"grade\"].astype(int)"
   ]
  },
  {
   "cell_type": "code",
   "execution_count": 3,
   "id": "9138597b-d99c-4347-823a-03fa63d0abad",
   "metadata": {},
   "outputs": [
    {
     "data": {
      "text/html": [
       "<div>\n",
       "<style scoped>\n",
       "    .dataframe tbody tr th:only-of-type {\n",
       "        vertical-align: middle;\n",
       "    }\n",
       "\n",
       "    .dataframe tbody tr th {\n",
       "        vertical-align: top;\n",
       "    }\n",
       "\n",
       "    .dataframe thead th {\n",
       "        text-align: right;\n",
       "    }\n",
       "</style>\n",
       "<table border=\"1\" class=\"dataframe\">\n",
       "  <thead>\n",
       "    <tr style=\"text-align: right;\">\n",
       "      <th></th>\n",
       "      <th>x_low</th>\n",
       "      <th>x_high</th>\n",
       "      <th>frequency</th>\n",
       "    </tr>\n",
       "  </thead>\n",
       "  <tbody>\n",
       "    <tr>\n",
       "      <th>12</th>\n",
       "      <td>48</td>\n",
       "      <td>52</td>\n",
       "      <td>17</td>\n",
       "    </tr>\n",
       "    <tr>\n",
       "      <th>10</th>\n",
       "      <td>40</td>\n",
       "      <td>44</td>\n",
       "      <td>14</td>\n",
       "    </tr>\n",
       "    <tr>\n",
       "      <th>20</th>\n",
       "      <td>80</td>\n",
       "      <td>84</td>\n",
       "      <td>13</td>\n",
       "    </tr>\n",
       "    <tr>\n",
       "      <th>22</th>\n",
       "      <td>88</td>\n",
       "      <td>92</td>\n",
       "      <td>8</td>\n",
       "    </tr>\n",
       "    <tr>\n",
       "      <th>2</th>\n",
       "      <td>8</td>\n",
       "      <td>12</td>\n",
       "      <td>1</td>\n",
       "    </tr>\n",
       "  </tbody>\n",
       "</table>\n",
       "</div>"
      ],
      "text/plain": [
       "    x_low  x_high  frequency\n",
       "12     48      52         17\n",
       "10     40      44         14\n",
       "20     80      84         13\n",
       "22     88      92          8\n",
       "2       8      12          1"
      ]
     },
     "execution_count": 3,
     "metadata": {},
     "output_type": "execute_result"
    }
   ],
   "source": [
    "df_2020.sample(5)"
   ]
  },
  {
   "cell_type": "code",
   "execution_count": 4,
   "id": "fc756577-40e2-4131-aaba-9fcfcf089bb8",
   "metadata": {},
   "outputs": [
    {
     "data": {
      "text/html": [
       "<div>\n",
       "<style scoped>\n",
       "    .dataframe tbody tr th:only-of-type {\n",
       "        vertical-align: middle;\n",
       "    }\n",
       "\n",
       "    .dataframe tbody tr th {\n",
       "        vertical-align: top;\n",
       "    }\n",
       "\n",
       "    .dataframe thead th {\n",
       "        text-align: right;\n",
       "    }\n",
       "</style>\n",
       "<table border=\"1\" class=\"dataframe\">\n",
       "  <thead>\n",
       "    <tr style=\"text-align: right;\">\n",
       "      <th></th>\n",
       "      <th>grade</th>\n",
       "    </tr>\n",
       "  </thead>\n",
       "  <tbody>\n",
       "    <tr>\n",
       "      <th>115</th>\n",
       "      <td>60</td>\n",
       "    </tr>\n",
       "    <tr>\n",
       "      <th>277</th>\n",
       "      <td>75</td>\n",
       "    </tr>\n",
       "    <tr>\n",
       "      <th>122</th>\n",
       "      <td>56</td>\n",
       "    </tr>\n",
       "    <tr>\n",
       "      <th>81</th>\n",
       "      <td>49</td>\n",
       "    </tr>\n",
       "    <tr>\n",
       "      <th>248</th>\n",
       "      <td>84</td>\n",
       "    </tr>\n",
       "  </tbody>\n",
       "</table>\n",
       "</div>"
      ],
      "text/plain": [
       "     grade\n",
       "115     60\n",
       "277     75\n",
       "122     56\n",
       "81      49\n",
       "248     84"
      ]
     },
     "execution_count": 4,
     "metadata": {},
     "output_type": "execute_result"
    }
   ],
   "source": [
    "df_2024.sample(5)"
   ]
  },
  {
   "cell_type": "code",
   "execution_count": 13,
   "id": "acb1f212-c235-424a-9f46-7ea782e32ad3",
   "metadata": {},
   "outputs": [],
   "source": [
    "def calculate_mean_grouped_data(x_low, x_high, frequency):\n",
    "    \"\"\"\n",
    "    Calculates the weighted mean of grouped data.\n",
    "\n",
    "    Args:\n",
    "        x_low: An array-like object containing the lower limits of the class intervals.\n",
    "        x_high: An array-like object containing the upper limits of the class intervals.\n",
    "        frequency: An array-like object containing the frequencies of each class interval.\n",
    "\n",
    "    Returns:\n",
    "        The weighted mean of the grouped data.\n",
    "    \"\"\"\n",
    "    class_score = (x_low + x_high) / 2\n",
    "    return np.sum(class_score * frequency) / np.sum(frequency)\n",
    "\n",
    "\n",
    "def calculate_standard_dev_grouped_data(mean, x_low, x_high, frequency):\n",
    "    \"\"\"\n",
    "    Calculates the weighted mean of grouped data.\n",
    "\n",
    "    Args:\n",
    "        mean: Float, the weighted mean of the distribution\n",
    "        x_low: An array-like object containing the lower limits of the class intervals.\n",
    "        x_high: An array-like object containing the upper limits of the class intervals.\n",
    "        frequency: An array-like object containing the frequencies of each class interval.\n",
    "\n",
    "    Returns:\n",
    "        The standard deviation of the distribution\n",
    "    \"\"\"\n",
    "    class_score = (x_low + x_high) / 2\n",
    "    N = np.sum(frequency)\n",
    "    return (\n",
    "        np.sqrt(\n",
    "            N * np.sum(frequency * (class_score**2))\n",
    "            - np.sum(frequency * class_score) ** 2\n",
    "        )\n",
    "        / N\n",
    "    )"
   ]
  },
  {
   "cell_type": "code",
   "execution_count": 14,
   "id": "bebf0b05-faad-440b-ac48-fb23823dffc9",
   "metadata": {},
   "outputs": [
    {
     "name": "stdout",
     "output_type": "stream",
     "text": [
      "Mean: 63.21739130434783, Standard Deviation: 14.958232771382704\n"
     ]
    }
   ],
   "source": [
    "mean = calculate_mean_grouped_data(\n",
    "    df_2020[\"x_low\"], df_2020[\"x_high\"], df_2020[\"frequency\"]\n",
    ")\n",
    "std_dev = calculate_standard_dev_grouped_data(\n",
    "    mean, df_2020[\"x_low\"], df_2020[\"x_high\"], df_2020[\"frequency\"]\n",
    ")\n",
    "\n",
    "print(f\"Mean: {mean}, Standard Deviation: {std_dev}\")"
   ]
  },
  {
   "cell_type": "code",
   "execution_count": 7,
   "id": "cfa2e573-29d9-4603-8805-aee3d96f2ef0",
   "metadata": {},
   "outputs": [
    {
     "data": {
      "text/plain": [
       "0    -20\n",
       "1    -16\n",
       "2    -12\n",
       "3     -8\n",
       "4     -4\n",
       "5      0\n",
       "6      4\n",
       "7      8\n",
       "8     12\n",
       "9     16\n",
       "10    20\n",
       "11    24\n",
       "12    28\n",
       "13    32\n",
       "14    36\n",
       "15    40\n",
       "16    44\n",
       "17    48\n",
       "18    52\n",
       "19    56\n",
       "20    60\n",
       "21    64\n",
       "22    68\n",
       "23    72\n",
       "24    76\n",
       "Name: x_low, dtype: int64"
      ]
     },
     "execution_count": 7,
     "metadata": {},
     "output_type": "execute_result"
    }
   ],
   "source": [
    "df_2020[\"x_low\"] - 20"
   ]
  },
  {
   "cell_type": "code",
   "execution_count": 8,
   "id": "08b48e53-0382-4bf1-ab7c-40cecf082ad1",
   "metadata": {},
   "outputs": [
    {
     "data": {
      "text/html": [
       "<div>\n",
       "<style scoped>\n",
       "    .dataframe tbody tr th:only-of-type {\n",
       "        vertical-align: middle;\n",
       "    }\n",
       "\n",
       "    .dataframe tbody tr th {\n",
       "        vertical-align: top;\n",
       "    }\n",
       "\n",
       "    .dataframe thead th {\n",
       "        text-align: right;\n",
       "    }\n",
       "</style>\n",
       "<table border=\"1\" class=\"dataframe\">\n",
       "  <thead>\n",
       "    <tr style=\"text-align: right;\">\n",
       "      <th></th>\n",
       "      <th>grade</th>\n",
       "    </tr>\n",
       "  </thead>\n",
       "  <tbody>\n",
       "    <tr>\n",
       "      <th>count</th>\n",
       "      <td>297.000000</td>\n",
       "    </tr>\n",
       "    <tr>\n",
       "      <th>mean</th>\n",
       "      <td>59.232323</td>\n",
       "    </tr>\n",
       "    <tr>\n",
       "      <th>std</th>\n",
       "      <td>13.004024</td>\n",
       "    </tr>\n",
       "    <tr>\n",
       "      <th>min</th>\n",
       "      <td>11.000000</td>\n",
       "    </tr>\n",
       "    <tr>\n",
       "      <th>25%</th>\n",
       "      <td>52.000000</td>\n",
       "    </tr>\n",
       "    <tr>\n",
       "      <th>50%</th>\n",
       "      <td>59.000000</td>\n",
       "    </tr>\n",
       "    <tr>\n",
       "      <th>75%</th>\n",
       "      <td>68.000000</td>\n",
       "    </tr>\n",
       "    <tr>\n",
       "      <th>max</th>\n",
       "      <td>91.000000</td>\n",
       "    </tr>\n",
       "  </tbody>\n",
       "</table>\n",
       "</div>"
      ],
      "text/plain": [
       "            grade\n",
       "count  297.000000\n",
       "mean    59.232323\n",
       "std     13.004024\n",
       "min     11.000000\n",
       "25%     52.000000\n",
       "50%     59.000000\n",
       "75%     68.000000\n",
       "max     91.000000"
      ]
     },
     "execution_count": 8,
     "metadata": {},
     "output_type": "execute_result"
    }
   ],
   "source": [
    "df_2024.describe()"
   ]
  },
  {
   "cell_type": "code",
   "execution_count": 9,
   "id": "7cffc457-c39e-4bb7-a507-a9337ab96650",
   "metadata": {},
   "outputs": [
    {
     "ename": "NameError",
     "evalue": "name 'df' is not defined",
     "output_type": "error",
     "traceback": [
      "\u001b[0;31m---------------------------------------------------------------------------\u001b[0m",
      "\u001b[0;31mNameError\u001b[0m                                 Traceback (most recent call last)",
      "Cell \u001b[0;32mIn[9], line 1\u001b[0m\n\u001b[0;32m----> 1\u001b[0m \u001b[43mdf\u001b[49m\n",
      "\u001b[0;31mNameError\u001b[0m: name 'df' is not defined"
     ]
    }
   ],
   "source": [
    "df"
   ]
  },
  {
   "cell_type": "code",
   "execution_count": null,
   "id": "160f22de-2dea-4eb9-9ae5-fbb0a75b1e67",
   "metadata": {},
   "outputs": [],
   "source": []
  },
  {
   "cell_type": "code",
   "execution_count": null,
   "id": "df732cef-53eb-444b-a371-6fc49cab0e75",
   "metadata": {},
   "outputs": [],
   "source": []
  }
 ],
 "metadata": {
  "kernelspec": {
   "display_name": "Python 3 (ipykernel)",
   "language": "python",
   "name": "python3"
  },
  "language_info": {
   "codemirror_mode": {
    "name": "ipython",
    "version": 3
   },
   "file_extension": ".py",
   "mimetype": "text/x-python",
   "name": "python",
   "nbconvert_exporter": "python",
   "pygments_lexer": "ipython3",
   "version": "3.10.12"
  }
 },
 "nbformat": 4,
 "nbformat_minor": 5
}
